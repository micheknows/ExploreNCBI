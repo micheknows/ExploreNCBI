{
 "cells": [
  {
   "cell_type": "markdown",
   "source": [
    "# Exploring Proteins in NCBI\n",
    "\n",
    "Two questions are answered below to illustrate using the Entrez Programming Utilities APIs to gather data from the NCBI website.\n",
    "1. How many human proteins are larger than 300000 daltons?\n",
    "2. What is the longest human protein?"
   ],
   "metadata": {
    "collapsed": false,
    "pycharm": {
     "name": "#%% md\n"
    }
   }
  },
  {
   "cell_type": "markdown",
   "source": [
    "## Install packages"
   ],
   "metadata": {
    "collapsed": false,
    "pycharm": {
     "name": "#%% md\n"
    }
   }
  },
  {
   "cell_type": "code",
   "execution_count": 114,
   "outputs": [
    {
     "name": "stdout",
     "output_type": "stream",
     "text": [
      "Requirement already satisfied: requests in c:\\datascience\\explorencbi\\venv\\lib\\site-packages (2.27.1)\n",
      "Requirement already satisfied: urllib3<1.27,>=1.21.1 in c:\\datascience\\explorencbi\\venv\\lib\\site-packages (from requests) (1.26.9)\n",
      "Requirement already satisfied: certifi>=2017.4.17 in c:\\datascience\\explorencbi\\venv\\lib\\site-packages (from requests) (2021.10.8)\n",
      "Requirement already satisfied: charset-normalizer~=2.0.0 in c:\\datascience\\explorencbi\\venv\\lib\\site-packages (from requests) (2.0.12)\n",
      "Requirement already satisfied: idna<4,>=2.5 in c:\\datascience\\explorencbi\\venv\\lib\\site-packages (from requests) (3.3)\n",
      "Note: you may need to restart the kernel to use updated packages.\n"
     ]
    },
    {
     "name": "stderr",
     "output_type": "stream",
     "text": [
      "WARNING: You are using pip version 21.3.1; however, version 22.1 is available.\n",
      "You should consider upgrading via the 'C:\\DataScience\\ExploreNCBI\\venv\\Scripts\\python.exe -m pip install --upgrade pip' command.\n"
     ]
    }
   ],
   "source": [
    "%pip install requests"
   ],
   "metadata": {
    "collapsed": false,
    "pycharm": {
     "name": "#%%\n"
    }
   }
  },
  {
   "cell_type": "markdown",
   "source": [
    "## import needed packages"
   ],
   "metadata": {
    "collapsed": false,
    "pycharm": {
     "name": "#%% md\n"
    }
   }
  },
  {
   "cell_type": "code",
   "execution_count": 115,
   "outputs": [],
   "source": [
    "import requests"
   ],
   "metadata": {
    "collapsed": false,
    "pycharm": {
     "name": "#%%\n"
    }
   }
  },
  {
   "cell_type": "markdown",
   "source": [
    "# QUESTION"
   ],
   "metadata": {
    "collapsed": false,
    "pycharm": {
     "name": "#%% md\n"
    }
   }
  },
  {
   "cell_type": "markdown",
   "source": [
    "How many human proteins in the NCBI protein database are bigger than 300,000 daltons?"
   ],
   "metadata": {
    "collapsed": false,
    "pycharm": {
     "name": "#%% md\n"
    }
   }
  },
  {
   "cell_type": "code",
   "execution_count": 116,
   "outputs": [],
   "source": [
    "\n",
    "# use eSearch URL\n",
    "base = 'https://eutils.ncbi.nlm.nih.gov/entrez/eutils/'\n",
    "extension = 'esearch.fcgi'\n",
    "db = \"protein\"\n",
    "\n",
    "# create search terms\n",
    "terms = \"Homo+sapiens[orgn]+AND+300000:4000000[molwt]\"\n",
    "\n",
    "# paramaters\n",
    "params = \"?db=\" + db + \"&term=\" + terms + \"&usehistory=y&format=json\"\n",
    "\n",
    "# send the request\n",
    "r = requests.get(base+extension+params)\n",
    "\n",
    "# get the data\n",
    "json_data = r.json()\n",
    "\n",
    "\n",
    "json_data = json_data['esearchresult']\n"
   ],
   "metadata": {
    "collapsed": false,
    "pycharm": {
     "name": "#%%\n"
    }
   }
  },
  {
   "cell_type": "markdown",
   "source": [
    "# ANSWER"
   ],
   "metadata": {
    "collapsed": false,
    "pycharm": {
     "name": "#%% md\n"
    }
   }
  },
  {
   "cell_type": "code",
   "execution_count": 117,
   "outputs": [
    {
     "name": "stdout",
     "output_type": "stream",
     "text": [
      "There are 3612 human proteins in the NCBI database that are bigger than 300,000 daltons.\n"
     ]
    }
   ],
   "source": [
    "print(\"There are \" + str(json_data['count']) + \" human proteins in the NCBI database that are bigger than 300,000 daltons.\")"
   ],
   "metadata": {
    "collapsed": false,
    "pycharm": {
     "name": "#%%\n"
    }
   }
  },
  {
   "cell_type": "markdown",
   "source": [
    "# QUESTION"
   ],
   "metadata": {
    "collapsed": false,
    "pycharm": {
     "name": "#%% md\n"
    }
   }
  },
  {
   "cell_type": "markdown",
   "source": [
    "What is the longest human protein in the NCBI database?"
   ],
   "metadata": {
    "collapsed": false,
    "pycharm": {
     "name": "#%% md\n"
    }
   }
  },
  {
   "cell_type": "code",
   "execution_count": 118,
   "outputs": [
    {
     "name": "stdout",
     "output_type": "stream",
     "text": [
      "Query Key:  1\n",
      "Webenv:  MCID_62814fd4a958831c143f5449\n",
      "There are 10 human proteins in the NCBI database that are bigger than 3800000 daltons.\n"
     ]
    }
   ],
   "source": [
    "# let's get a much smaller number of proteins\n",
    "# create search terms\n",
    "minimum=\"3800000\"\n",
    "extension = \"esearch.fcgi\"\n",
    "terms = \"Homo+sapiens[orgn]+AND+\"+minimum+\":4000000[molwt]\"\n",
    "\n",
    "# paramaters\n",
    "params = \"?db=\" + db + \"&term=\" + terms + \"&usehistory=y&format=json\"\n",
    "\n",
    "# send the request\n",
    "r = requests.get(base+extension+params)\n",
    "\n",
    "# get the data\n",
    "json_data = r.json()\n",
    "\n",
    "\n",
    "json_data = json_data['esearchresult']\n",
    "query_key = json_data['querykey']\n",
    "webenv = json_data['webenv']\n",
    "print(\"Query Key:  \" + query_key)\n",
    "print(\"Webenv:  \" + webenv)\n",
    "\n",
    "\n",
    "print(\"There are \" + str(json_data['count']) + \" human proteins in the NCBI database that are bigger than \"+minimum+\" daltons.\")\n",
    "\n"
   ],
   "metadata": {
    "collapsed": false,
    "pycharm": {
     "name": "#%%\n"
    }
   }
  },
  {
   "cell_type": "code",
   "execution_count": 119,
   "outputs": [],
   "source": [
    "\n",
    "# use eSummary to get details of each protein\n",
    "extension = \"esummary.fcgi\"\n",
    "params = \"?db=\" + db + \"&query_key=\" + query_key + \"&WebEnv=\" + webenv + \"&format=json\"\n",
    "\n",
    "# send the request\n",
    "r = requests.get(base+extension+params)\n",
    "\n",
    "# get the data\n",
    "json_data = r.json()\n",
    "proteins = json_data['result']\n",
    "del proteins['uids']\n",
    "#print(\"Results:  \\n\" + json.dumps(proteins,indent=4))\n",
    "maxlength = 0\n",
    "uid = \"\"\n",
    "\n",
    "for key in proteins:\n",
    "    # print(proteins[key]['uid'] + \" is \" + str(proteins[key]['slen']) + \" aa long\")\n",
    "    if proteins[key]['slen'] >= maxlength:\n",
    "        maxlength = proteins[key]['slen']\n",
    "        uid = proteins[key]['uid']\n",
    "\n",
    "longest = proteins[uid]\n",
    "\n"
   ],
   "metadata": {
    "collapsed": false,
    "pycharm": {
     "name": "#%%\n"
    }
   }
  },
  {
   "cell_type": "markdown",
   "source": [
    "# ANSWER"
   ],
   "metadata": {
    "collapsed": false,
    "pycharm": {
     "name": "#%% md\n"
    }
   }
  },
  {
   "cell_type": "code",
   "execution_count": 120,
   "outputs": [
    {
     "name": "stdout",
     "output_type": "stream",
     "text": [
      "The longest human protein is: \n",
      "titin [Homo sapiens]\n",
      "Sequence Length:  35991\n",
      "Accession:  KAI2525983.1\n"
     ]
    }
   ],
   "source": [
    "print(\"The longest human protein is: \" )\n",
    "print(longest['title'])\n",
    "print(\"Sequence Length:  \" + str(longest['slen']))\n",
    "print(\"Accession:  \" + longest['accessionversion'])"
   ],
   "metadata": {
    "collapsed": false,
    "pycharm": {
     "name": "#%%\n"
    }
   }
  }
 ],
 "metadata": {
  "kernelspec": {
   "display_name": "Python 3",
   "language": "python",
   "name": "python3"
  },
  "language_info": {
   "codemirror_mode": {
    "name": "ipython",
    "version": 2
   },
   "file_extension": ".py",
   "mimetype": "text/x-python",
   "name": "python",
   "nbconvert_exporter": "python",
   "pygments_lexer": "ipython2",
   "version": "2.7.6"
  }
 },
 "nbformat": 4,
 "nbformat_minor": 0
}